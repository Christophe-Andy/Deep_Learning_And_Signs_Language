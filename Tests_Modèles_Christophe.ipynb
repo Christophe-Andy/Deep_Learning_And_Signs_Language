{
  "nbformat": 4,
  "nbformat_minor": 0,
  "metadata": {
    "colab": {
      "name": "Tests_Modèles_Christophe.ipynb",
      "provenance": [],
      "collapsed_sections": []
    },
    "kernelspec": {
      "name": "python3",
      "display_name": "Python 3"
    }
  },
  "cells": [
    {
      "cell_type": "code",
      "metadata": {
        "colab": {
          "base_uri": "https://localhost:8080/"
        },
        "id": "3ggenU_uobJx",
        "outputId": "80a19103-7ab5-4049-9339-43cfd0e7c857"
      },
      "source": [
        "#Christophe (GDV)\r\n",
        "\r\n",
        "from tensorflow.keras.applications.resnet50 import ResNet50\r\n",
        "from tensorflow.keras.preprocessing import image\r\n",
        "from tensorflow.keras.applications.resnet50 import preprocess_input, decode_predictions\r\n",
        "import numpy as np\r\n",
        "from google.colab import files\r\n",
        "#Chargement de l'image relative à l'elephant\r\n",
        "#files.upload()\r\n",
        "\r\n",
        "model = ResNet50(weights='imagenet')\r\n",
        "\r\n",
        "img_path = 'elephant.jpg'\r\n",
        "img = image.load_img(img_path, target_size=(224, 224))\r\n",
        "x = image.img_to_array(img)\r\n",
        "x = np.expand_dims(x, axis=0)\r\n",
        "x = preprocess_input(x)\r\n",
        "\r\n",
        "preds = model.predict(x)\r\n",
        "# decode the results into a list of tuples (class, description, probability)\r\n",
        "# (one such list for each sample in the batch)\r\n",
        "print('Predicted:', decode_predictions(preds, top=3)[0])\r\n"
      ],
      "execution_count": null,
      "outputs": [
        {
          "output_type": "stream",
          "text": [
            "Downloading data from https://storage.googleapis.com/tensorflow/keras-applications/resnet/resnet50_weights_tf_dim_ordering_tf_kernels.h5\n",
            "102973440/102967424 [==============================] - 1s 0us/step\n",
            "WARNING:tensorflow:10 out of the last 12 calls to <function Model.make_predict_function.<locals>.predict_function at 0x7f4e700f0a60> triggered tf.function retracing. Tracing is expensive and the excessive number of tracings could be due to (1) creating @tf.function repeatedly in a loop, (2) passing tensors with different shapes, (3) passing Python objects instead of tensors. For (1), please define your @tf.function outside of the loop. For (2), @tf.function has experimental_relax_shapes=True option that relaxes argument shapes that can avoid unnecessary retracing. For (3), please refer to https://www.tensorflow.org/guide/function#controlling_retracing and https://www.tensorflow.org/api_docs/python/tf/function for  more details.\n",
            "Predicted: [('n01871265', 'tusker', 0.61510843), ('n02504458', 'African_elephant', 0.2195346), ('n02504013', 'Indian_elephant', 0.16474812)]\n"
          ],
          "name": "stdout"
        }
      ]
    },
    {
      "cell_type": "code",
      "metadata": {
        "colab": {
          "base_uri": "https://localhost:8080/"
        },
        "id": "2OZkeJUc2aXx",
        "outputId": "957a5486-f276-439f-87e8-aeb735c8bac5"
      },
      "source": [
        "%ls sample_data/"
      ],
      "execution_count": null,
      "outputs": [
        {
          "output_type": "stream",
          "text": [
            "\u001b[0m\u001b[01;32manscombe.json\u001b[0m*                mnist_test.csv\n",
            "california_housing_test.csv   mnist_train_small.csv\n",
            "california_housing_train.csv  \u001b[01;32mREADME.md\u001b[0m*\n"
          ],
          "name": "stdout"
        }
      ]
    },
    {
      "cell_type": "code",
      "metadata": {
        "colab": {
          "base_uri": "https://localhost:8080/"
        },
        "id": "nNvwiE4Qfg3g",
        "outputId": "a091935b-5b19-4aa7-f65f-f730e3084e2c"
      },
      "source": [
        "from keras.applications.vgg16 import VGG16\r\n",
        "from keras.applications.vgg16 import decode_predictions\r\n",
        "from keras.preprocessing.image import load_img, img_to_array\r\n",
        "from keras.applications.vgg16 import preprocess_input\r\n",
        "#Chargement de l'image relative à l'elephant\r\n",
        "#files.upload()\r\n",
        "\r\n",
        "model = VGG16() # Création du modèle VGG-16 implementé par Keras\r\n",
        "\r\n",
        "img = load_img('elephant.jpg', target_size=(224, 224))  # Charger l'image\r\n",
        "img = img_to_array(img)  # Convertir en tableau numpy\r\n",
        "img = img.reshape((1, img.shape[0], img.shape[1], img.shape[2]))  # Créer la collection d'images (un seul échantillon)\r\n",
        "img = preprocess_input(img)  # Prétraiter l'image comme le veut VGG-16\r\n",
        "\r\n",
        "y = model.predict(img)  # Prédir la classe de l'image (parmi les 1000 classes d'ImageNet)\r\n",
        "\r\n",
        "# Afficher les 3 classes les plus probables\r\n",
        "print('Top 3 :', decode_predictions(y, top=3)[0])"
      ],
      "execution_count": null,
      "outputs": [
        {
          "output_type": "stream",
          "text": [
            "WARNING:tensorflow:9 out of the last 11 calls to <function Model.make_predict_function.<locals>.predict_function at 0x7f4e6f877f28> triggered tf.function retracing. Tracing is expensive and the excessive number of tracings could be due to (1) creating @tf.function repeatedly in a loop, (2) passing tensors with different shapes, (3) passing Python objects instead of tensors. For (1), please define your @tf.function outside of the loop. For (2), @tf.function has experimental_relax_shapes=True option that relaxes argument shapes that can avoid unnecessary retracing. For (3), please refer to https://www.tensorflow.org/guide/function#controlling_retracing and https://www.tensorflow.org/api_docs/python/tf/function for  more details.\n",
            "Top 3 : [('n01871265', 'tusker', 0.8245909), ('n02504458', 'African_elephant', 0.100017056), ('n02504013', 'Indian_elephant', 0.075376555)]\n"
          ],
          "name": "stdout"
        }
      ]
    },
    {
      "cell_type": "code",
      "metadata": {
        "colab": {
          "base_uri": "https://localhost:8080/"
        },
        "id": "R_1c46cLfq0_",
        "outputId": "7dac3ff5-f40a-41fc-880d-1c6c8182cc62"
      },
      "source": [
        "%ls"
      ],
      "execution_count": null,
      "outputs": [
        {
          "output_type": "stream",
          "text": [
            "elephant.jpg  \u001b[0m\u001b[01;34msample_data\u001b[0m/\n"
          ],
          "name": "stdout"
        }
      ]
    }
  ]
}