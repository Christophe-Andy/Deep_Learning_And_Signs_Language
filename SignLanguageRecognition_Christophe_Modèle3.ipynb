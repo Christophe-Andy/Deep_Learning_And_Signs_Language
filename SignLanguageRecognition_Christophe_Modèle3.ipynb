{
  "nbformat": 4,
  "nbformat_minor": 0,
  "metadata": {
    "colab": {
      "name": "SignLanguageRecognition_Christophe_Modèle3.ipynb",
      "provenance": []
    },
    "kernelspec": {
      "name": "python3",
      "display_name": "Python 3"
    }
  },
  "cells": [
    {
      "cell_type": "code",
      "metadata": {
        "id": "vPPXAAO91JPS"
      },
      "source": [
        "import numpy\r\n",
        "from keras.models import Sequential\r\n",
        "from keras.layers import Dense, Dropout, Flatten, BatchNormalization, Activation\r\n",
        "from keras.layers.convolutional import Conv2D, MaxPooling2D\r\n",
        "from keras.constraints import maxnorm\r\n",
        "from keras.utils import np_utils"
      ],
      "execution_count": null,
      "outputs": []
    },
    {
      "cell_type": "code",
      "metadata": {
        "id": "gBvT8Rh91Nrs"
      },
      "source": [
        "# Graine aléatoire\r\n",
        "seed = 21"
      ],
      "execution_count": null,
      "outputs": []
    },
    {
      "cell_type": "code",
      "metadata": {
        "colab": {
          "base_uri": "https://localhost:8080/"
        },
        "id": "xiUq177C2CVw",
        "outputId": "77f81313-fb06-4b16-f7bc-4c9f70683bb3"
      },
      "source": [
        "from google.colab import drive\r\n",
        "import os\r\n",
        "import cv2\r\n",
        "import skimage\r\n",
        "from skimage.transform import resize\r\n",
        "import numpy as np\r\n",
        "\r\n",
        "#On défini le repertoire  des images relatives à l'entrainement\r\n",
        "\r\n",
        "#drive.mount('/content/drive') \r\n",
        "imageSize=75\r\n",
        "train_dir = \"./drive/My Drive/asl_alphabet_train_29000/asl_alphabet_train/\"\r\n",
        "#test_dir =  \"./drive/My Drive/asl_alphabet_test_28/asl_alphabet_test/\"\r\n",
        "\r\n",
        "from tqdm import tqdm\r\n",
        "def get_data(folder):\r\n",
        "    \"\"\"\r\n",
        "    Load the data and labels from the given folder.\r\n",
        "    \"\"\"\r\n",
        "    X = []\r\n",
        "    y = []\r\n",
        "    for folderName in os.listdir(folder):\r\n",
        "      #Parcours des répertoires de notre répertoire d'entrainement et assignation des labels\r\n",
        "        if not folderName.startswith('.'):\r\n",
        "            if folderName in ['A']:\r\n",
        "                label = 0\r\n",
        "            elif folderName in ['B']:\r\n",
        "                label = 1\r\n",
        "            elif folderName in ['C']:\r\n",
        "                label = 2\r\n",
        "            elif folderName in ['D']:\r\n",
        "                label = 3\r\n",
        "            elif folderName in ['E']:\r\n",
        "                label = 4\r\n",
        "            elif folderName in ['F']:\r\n",
        "                label = 5\r\n",
        "            elif folderName in ['G']:\r\n",
        "                label = 6\r\n",
        "            elif folderName in ['H']:\r\n",
        "                label = 7\r\n",
        "            elif folderName in ['I']:\r\n",
        "                label = 8\r\n",
        "            elif folderName in ['J']:\r\n",
        "                label = 9\r\n",
        "            elif folderName in ['K']:\r\n",
        "                label = 10\r\n",
        "            elif folderName in ['L']:\r\n",
        "                label = 11\r\n",
        "            elif folderName in ['M']:\r\n",
        "                label = 12\r\n",
        "            elif folderName in ['N']:\r\n",
        "                label = 13\r\n",
        "            elif folderName in ['O']:\r\n",
        "                label = 14\r\n",
        "            elif folderName in ['P']:\r\n",
        "                label = 15\r\n",
        "            elif folderName in ['Q']:\r\n",
        "                label = 16\r\n",
        "            elif folderName in ['R']:\r\n",
        "                label = 17\r\n",
        "            elif folderName in ['S']:\r\n",
        "                label = 18\r\n",
        "            elif folderName in ['T']:\r\n",
        "                label = 19\r\n",
        "            elif folderName in ['U']:\r\n",
        "                label = 20\r\n",
        "            elif folderName in ['V']:\r\n",
        "                label = 21\r\n",
        "            elif folderName in ['W']:\r\n",
        "                label = 22\r\n",
        "            elif folderName in ['X']:\r\n",
        "                label = 23\r\n",
        "            elif folderName in ['Y']:\r\n",
        "                label = 24\r\n",
        "            elif folderName in ['Z']:\r\n",
        "                label = 25\r\n",
        "            elif folderName in ['del']:\r\n",
        "                label = 26\r\n",
        "            elif folderName in ['nothing']:\r\n",
        "                label = 27\r\n",
        "            elif folderName in ['space']:\r\n",
        "                label = 28           \r\n",
        "            else:\r\n",
        "                label = 29\r\n",
        "            for image_filename in tqdm(os.listdir(folder + folderName)):\r\n",
        "                img_file = cv2.imread(folder + folderName + '/' + image_filename)\r\n",
        "                if img_file is not None:\r\n",
        "                    img_file = skimage.transform.resize(img_file, (imageSize, imageSize, 3))\r\n",
        "                    img_arr = np.asarray(img_file)\r\n",
        "                    X.append(img_arr)\r\n",
        "                    y.append(label)\r\n",
        "    X = np.asarray(X)\r\n",
        "    y = np.asarray(y)\r\n",
        "    return X,y\r\n",
        "X_train, y_train = get_data(train_dir)"
      ],
      "execution_count": null,
      "outputs": [
        {
          "output_type": "stream",
          "text": [
            "100%|██████████| 1000/1000 [01:20<00:00, 12.46it/s]\n",
            "100%|██████████| 1000/1000 [03:26<00:00,  4.84it/s]\n",
            "100%|██████████| 1000/1000 [03:41<00:00,  4.51it/s]\n",
            "100%|██████████| 1000/1000 [03:31<00:00,  4.73it/s]\n",
            "100%|██████████| 1000/1000 [03:49<00:00,  4.36it/s]\n",
            "100%|██████████| 1000/1000 [04:07<00:00,  4.04it/s]\n",
            "100%|██████████| 1000/1000 [03:30<00:00,  4.75it/s]\n",
            "100%|██████████| 1000/1000 [03:28<00:00,  4.79it/s]\n",
            "100%|██████████| 1000/1000 [03:24<00:00,  4.88it/s]\n",
            "100%|██████████| 1000/1000 [03:35<00:00,  4.65it/s]\n",
            "100%|██████████| 1000/1000 [03:33<00:00,  4.68it/s]\n",
            "100%|██████████| 1000/1000 [03:54<00:00,  4.27it/s]\n",
            "100%|██████████| 1000/1000 [03:50<00:00,  4.35it/s]\n",
            "100%|██████████| 1000/1000 [03:35<00:00,  4.65it/s]\n",
            "100%|██████████| 1000/1000 [03:24<00:00,  4.89it/s]\n",
            "100%|██████████| 1000/1000 [03:28<00:00,  4.79it/s]\n",
            "100%|██████████| 1000/1000 [03:30<00:00,  4.75it/s]\n",
            "100%|██████████| 1000/1000 [03:37<00:00,  4.60it/s]\n",
            "100%|██████████| 1000/1000 [03:25<00:00,  4.86it/s]\n",
            "100%|██████████| 1000/1000 [03:51<00:00,  4.31it/s]\n",
            "100%|██████████| 1000/1000 [03:28<00:00,  4.80it/s]\n",
            "100%|██████████| 1000/1000 [03:56<00:00,  4.22it/s]\n",
            "100%|██████████| 1000/1000 [03:45<00:00,  4.44it/s]\n",
            "100%|██████████| 1000/1000 [03:29<00:00,  4.78it/s]\n",
            "100%|██████████| 1000/1000 [03:16<00:00,  5.09it/s]\n",
            "100%|██████████| 1000/1000 [03:23<00:00,  4.92it/s]\n",
            "100%|██████████| 1000/1000 [03:55<00:00,  4.25it/s]\n",
            "100%|██████████| 1000/1000 [03:58<00:00,  4.19it/s]\n",
            "100%|██████████| 1000/1000 [03:18<00:00,  5.03it/s]\n"
          ],
          "name": "stderr"
        }
      ]
    },
    {
      "cell_type": "code",
      "metadata": {
        "id": "0L8PUmogUFda"
      },
      "source": [
        "#Normalisation des entrées de l'intervalle [0;255] vers [0;1] en divisant par 255\r\n",
        "#X_test1 = X_test.astype('float32')\r\n",
        "#X_test1 = X_test / 255.0\r\n",
        "\r\n",
        "#X_train1 = X_train.astype('float32')\r\n",
        "#X_train1 = X_train / 255.0"
      ],
      "execution_count": null,
      "outputs": []
    },
    {
      "cell_type": "code",
      "metadata": {
        "id": "40w-9DxleWM-"
      },
      "source": [
        "from numpy import savetxt\r\n",
        "from numpy import asarray\r\n",
        "from numpy import save\r\n",
        "#Enregistrement vers des fichiers csv\r\n",
        "#savetxt('./drive/My Drive/Xdata_sign_language.csv', X_train, delimiter=',')\r\n",
        "#savetxt('./drive/My Drive/ydata_sign_language.csv', y_train, delimiter=',')\r\n",
        "\r\n",
        "#Enregistrement vers des fichiers npy\r\n",
        "save('./drive/My Drive/Xdata_sign_language.npy', X_train)\r\n",
        "save('./drive/My Drive/ydata_sign_language.npy', y_train)"
      ],
      "execution_count": null,
      "outputs": []
    },
    {
      "cell_type": "code",
      "metadata": {
        "colab": {
          "base_uri": "https://localhost:8080/"
        },
        "id": "Z3YatQynlgkh",
        "outputId": "307c56f9-2157-436d-fdd6-669f18499304"
      },
      "source": [
        "#Chargement des tableaux numpy à partir des fichiers npy\r\n",
        "from numpy import load\r\n",
        "\r\n",
        "X_train2 = load('./drive/My Drive/Xdata_sign_language.npy')\r\n",
        "y_train2 = load('./drive/My Drive/ydata_sign_language.npy')\r\n",
        "\r\n",
        "print(y_train2)"
      ],
      "execution_count": null,
      "outputs": [
        {
          "output_type": "stream",
          "text": [
            "[19 19 19 ... 26 26 26]\n"
          ],
          "name": "stdout"
        }
      ]
    },
    {
      "cell_type": "code",
      "metadata": {
        "id": "gYdZR_rknoc3"
      },
      "source": [
        "from google.colab import drive\r\n",
        "import os\r\n",
        "import cv2\r\n",
        "import skimage\r\n",
        "from skimage.transform import resize\r\n",
        "import numpy as np\r\n",
        "from sklearn.model_selection import train_test_split\r\n",
        "from numpy import load\r\n",
        "\r\n",
        "X_train2 = load('./drive/My Drive/Xdata_sign_language.npy')\r\n",
        "y_train2 = load('./drive/My Drive/ydata_sign_language.npy')\r\n",
        "X_train, X_test, y_train, y_test = train_test_split(X_train2, y_train2, test_size=0.2)"
      ],
      "execution_count": null,
      "outputs": []
    },
    {
      "cell_type": "code",
      "metadata": {
        "id": "62mepp-cnSGX"
      },
      "source": [
        "y_train2 = np_utils.to_categorical(y_train2)\r\n",
        "y_test = np_utils.to_categorical(y_test)\r\n",
        "class_num = y_test.shape[1]"
      ],
      "execution_count": null,
      "outputs": []
    },
    {
      "cell_type": "code",
      "metadata": {
        "id": "uwV9Kod0p9fk"
      },
      "source": [
        "model = Sequential()"
      ],
      "execution_count": null,
      "outputs": []
    },
    {
      "cell_type": "code",
      "metadata": {
        "id": "shc67hIVqlxT"
      },
      "source": [
        "model.add(Conv2D(32, (3, 3), input_shape=X_train.shape[1:], padding='same'))\r\n",
        "model.add(Activation('relu'))"
      ],
      "execution_count": null,
      "outputs": []
    },
    {
      "cell_type": "code",
      "metadata": {
        "id": "vbKKTle9qyKX"
      },
      "source": [
        "model.add(Dropout(0.2))"
      ],
      "execution_count": null,
      "outputs": []
    },
    {
      "cell_type": "code",
      "metadata": {
        "id": "PIxQYGn3rgVC"
      },
      "source": [
        "model.add(BatchNormalization())"
      ],
      "execution_count": null,
      "outputs": []
    },
    {
      "cell_type": "code",
      "metadata": {
        "id": "j6Cd7uVArvit"
      },
      "source": [
        "model.add(Conv2D(64, (3, 3), padding='same'))\r\n",
        "model.add(Activation('relu'))"
      ],
      "execution_count": null,
      "outputs": []
    },
    {
      "cell_type": "code",
      "metadata": {
        "id": "80VZD1mrsMjR"
      },
      "source": [
        "model.add(MaxPooling2D(pool_size=(2, 2)))\r\n",
        "model.add(Dropout(0.2))\r\n",
        "model.add(BatchNormalization())"
      ],
      "execution_count": null,
      "outputs": []
    },
    {
      "cell_type": "code",
      "metadata": {
        "id": "ZtVOggQssSM7"
      },
      "source": [
        "model.add(Conv2D(64, (3, 3), padding='same'))\r\n",
        "model.add(Activation('relu'))\r\n",
        "model.add(MaxPooling2D(pool_size=(2, 2)))\r\n",
        "model.add(Dropout(0.2))\r\n",
        "model.add(BatchNormalization())\r\n",
        "    \r\n",
        "model.add(Conv2D(128, (3, 3), padding='same'))\r\n",
        "model.add(Activation('relu'))\r\n",
        "model.add(Dropout(0.2))\r\n",
        "model.add(BatchNormalization())"
      ],
      "execution_count": null,
      "outputs": []
    },
    {
      "cell_type": "code",
      "metadata": {
        "id": "8pvCp-OktR05"
      },
      "source": [
        "model.add(Flatten())\r\n",
        "model.add(Dropout(0.2))"
      ],
      "execution_count": null,
      "outputs": []
    },
    {
      "cell_type": "code",
      "metadata": {
        "id": "Yi-UnlLMtrpr"
      },
      "source": [
        "model.add(Dense(256, kernel_constraint=maxnorm(3)))\r\n",
        "model.add(Activation('relu'))\r\n",
        "model.add(Dropout(0.2))\r\n",
        "model.add(BatchNormalization())\r\n",
        "    \r\n",
        "model.add(Dense(128, kernel_constraint=maxnorm(3)))\r\n",
        "model.add(Activation('relu'))\r\n",
        "model.add(Dropout(0.2))\r\n",
        "model.add(BatchNormalization())"
      ],
      "execution_count": null,
      "outputs": []
    },
    {
      "cell_type": "code",
      "metadata": {
        "id": "7sJyx48Nt8dt"
      },
      "source": [
        "model.add(Dense(class_num))\r\n",
        "model.add(Activation('softmax'))"
      ],
      "execution_count": null,
      "outputs": []
    },
    {
      "cell_type": "code",
      "metadata": {
        "id": "ifPzHy6huUOj"
      },
      "source": [
        "epochs = 10\r\n",
        "optimizer = 'adam'"
      ],
      "execution_count": null,
      "outputs": []
    },
    {
      "cell_type": "code",
      "metadata": {
        "id": "FOXbtUbYuWiZ"
      },
      "source": [
        "model.compile(loss='categorical_crossentropy', optimizer=optimizer, metrics=['accuracy'])"
      ],
      "execution_count": null,
      "outputs": []
    },
    {
      "cell_type": "code",
      "metadata": {
        "colab": {
          "base_uri": "https://localhost:8080/"
        },
        "id": "MbuOpiXWucoL",
        "outputId": "ec1698fd-a80f-45ee-b5d4-d207eb712381"
      },
      "source": [
        "print(model.summary())"
      ],
      "execution_count": null,
      "outputs": [
        {
          "output_type": "stream",
          "text": [
            "Model: \"sequential\"\n",
            "_________________________________________________________________\n",
            "Layer (type)                 Output Shape              Param #   \n",
            "=================================================================\n",
            "conv2d (Conv2D)              (None, 75, 75, 32)        896       \n",
            "_________________________________________________________________\n",
            "activation (Activation)      (None, 75, 75, 32)        0         \n",
            "_________________________________________________________________\n",
            "dropout (Dropout)            (None, 75, 75, 32)        0         \n",
            "_________________________________________________________________\n",
            "batch_normalization (BatchNo (None, 75, 75, 32)        128       \n",
            "_________________________________________________________________\n",
            "conv2d_1 (Conv2D)            (None, 75, 75, 64)        18496     \n",
            "_________________________________________________________________\n",
            "activation_1 (Activation)    (None, 75, 75, 64)        0         \n",
            "_________________________________________________________________\n",
            "max_pooling2d (MaxPooling2D) (None, 37, 37, 64)        0         \n",
            "_________________________________________________________________\n",
            "dropout_1 (Dropout)          (None, 37, 37, 64)        0         \n",
            "_________________________________________________________________\n",
            "batch_normalization_1 (Batch (None, 37, 37, 64)        256       \n",
            "_________________________________________________________________\n",
            "conv2d_2 (Conv2D)            (None, 37, 37, 64)        36928     \n",
            "_________________________________________________________________\n",
            "activation_2 (Activation)    (None, 37, 37, 64)        0         \n",
            "_________________________________________________________________\n",
            "max_pooling2d_1 (MaxPooling2 (None, 18, 18, 64)        0         \n",
            "_________________________________________________________________\n",
            "dropout_2 (Dropout)          (None, 18, 18, 64)        0         \n",
            "_________________________________________________________________\n",
            "batch_normalization_2 (Batch (None, 18, 18, 64)        256       \n",
            "_________________________________________________________________\n",
            "conv2d_3 (Conv2D)            (None, 18, 18, 128)       73856     \n",
            "_________________________________________________________________\n",
            "activation_3 (Activation)    (None, 18, 18, 128)       0         \n",
            "_________________________________________________________________\n",
            "dropout_3 (Dropout)          (None, 18, 18, 128)       0         \n",
            "_________________________________________________________________\n",
            "batch_normalization_3 (Batch (None, 18, 18, 128)       512       \n",
            "_________________________________________________________________\n",
            "flatten (Flatten)            (None, 41472)             0         \n",
            "_________________________________________________________________\n",
            "dropout_4 (Dropout)          (None, 41472)             0         \n",
            "_________________________________________________________________\n",
            "dense (Dense)                (None, 256)               10617088  \n",
            "_________________________________________________________________\n",
            "activation_4 (Activation)    (None, 256)               0         \n",
            "_________________________________________________________________\n",
            "dropout_5 (Dropout)          (None, 256)               0         \n",
            "_________________________________________________________________\n",
            "batch_normalization_4 (Batch (None, 256)               1024      \n",
            "_________________________________________________________________\n",
            "dense_1 (Dense)              (None, 128)               32896     \n",
            "_________________________________________________________________\n",
            "activation_5 (Activation)    (None, 128)               0         \n",
            "_________________________________________________________________\n",
            "dropout_6 (Dropout)          (None, 128)               0         \n",
            "_________________________________________________________________\n",
            "batch_normalization_5 (Batch (None, 128)               512       \n",
            "_________________________________________________________________\n",
            "dense_2 (Dense)              (None, 29)                3741      \n",
            "_________________________________________________________________\n",
            "activation_6 (Activation)    (None, 29)                0         \n",
            "=================================================================\n",
            "Total params: 10,786,589\n",
            "Trainable params: 10,785,245\n",
            "Non-trainable params: 1,344\n",
            "_________________________________________________________________\n",
            "None\n"
          ],
          "name": "stdout"
        }
      ]
    },
    {
      "cell_type": "code",
      "metadata": {
        "colab": {
          "base_uri": "https://localhost:8080/"
        },
        "id": "hfOmknHAun91",
        "outputId": "f129ba5f-86ee-425e-940f-70f8f0e0dfcb"
      },
      "source": [
        "numpy.random.seed(seed)\r\n",
        "model.fit(X_train, y_train, validation_data=(X_test, y_test), epochs=epochs, batch_size=64)"
      ],
      "execution_count": null,
      "outputs": [
        {
          "output_type": "stream",
          "text": [
            "Epoch 1/10\n",
            "363/363 [==============================] - 953s 3s/step - loss: 1.6263 - accuracy: 0.5381 - val_loss: 12.7016 - val_accuracy: 0.0334\n",
            "Epoch 2/10\n",
            "363/363 [==============================] - 949s 3s/step - loss: 0.1434 - accuracy: 0.9651 - val_loss: 5.7150 - val_accuracy: 0.3253\n",
            "Epoch 3/10\n",
            "363/363 [==============================] - 951s 3s/step - loss: 0.0516 - accuracy: 0.9882 - val_loss: 1.2654 - val_accuracy: 0.6724\n",
            "Epoch 4/10\n",
            "363/363 [==============================] - 958s 3s/step - loss: 0.0505 - accuracy: 0.9877 - val_loss: 4.5349 - val_accuracy: 0.3909\n",
            "Epoch 5/10\n",
            "363/363 [==============================] - 958s 3s/step - loss: 0.0449 - accuracy: 0.9868 - val_loss: 1.3761 - val_accuracy: 0.6616\n",
            "Epoch 6/10\n",
            "363/363 [==============================] - 952s 3s/step - loss: 0.0233 - accuracy: 0.9944 - val_loss: 0.5384 - val_accuracy: 0.8259\n",
            "Epoch 7/10\n",
            "363/363 [==============================] - 963s 3s/step - loss: 0.0314 - accuracy: 0.9905 - val_loss: 2.0189 - val_accuracy: 0.6369\n",
            "Epoch 8/10\n",
            "363/363 [==============================] - 963s 3s/step - loss: 0.0231 - accuracy: 0.9935 - val_loss: 0.3964 - val_accuracy: 0.8743\n",
            "Epoch 9/10\n",
            "363/363 [==============================] - 963s 3s/step - loss: 0.0385 - accuracy: 0.9875 - val_loss: 2.8728 - val_accuracy: 0.5693\n",
            "Epoch 10/10\n",
            "363/363 [==============================] - 964s 3s/step - loss: 0.0188 - accuracy: 0.9946 - val_loss: 0.1873 - val_accuracy: 0.9345\n"
          ],
          "name": "stdout"
        },
        {
          "output_type": "execute_result",
          "data": {
            "text/plain": [
              "<tensorflow.python.keras.callbacks.History at 0x7fe72fe21588>"
            ]
          },
          "metadata": {
            "tags": []
          },
          "execution_count": 25
        }
      ]
    },
    {
      "cell_type": "code",
      "metadata": {
        "id": "v0PQEdx-ac1g"
      },
      "source": [
        "model.save('./drive/My Drive/ChristopheSignLanguageModel_3.h5')"
      ],
      "execution_count": null,
      "outputs": []
    },
    {
      "cell_type": "code",
      "metadata": {
        "id": "jKSlDPojcFpe"
      },
      "source": [
        "model2 = Sequential()"
      ],
      "execution_count": null,
      "outputs": []
    },
    {
      "cell_type": "code",
      "metadata": {
        "id": "e5A04kyicZi1"
      },
      "source": [
        "model2.add(Conv2D(32, (3, 3), input_shape=X_train.shape[1:], padding='same'))\r\n",
        "model2.add(Activation('relu'))\r\n",
        "model2.add(Dropout(0.2))\r\n",
        "model2.add(BatchNormalization())\r\n",
        "model2.add(Conv2D(64, (3, 3), padding='same'))\r\n",
        "model2.add(Activation('relu'))\r\n",
        "model2.add(MaxPooling2D(pool_size=(2, 2)))\r\n",
        "model2.add(Dropout(0.2))\r\n",
        "model2.add(BatchNormalization())\r\n",
        "model2.add(Conv2D(64, (3, 3), padding='same'))\r\n",
        "model2.add(Activation('relu'))\r\n",
        "model2.add(MaxPooling2D(pool_size=(2, 2)))\r\n",
        "model2.add(Dropout(0.2))\r\n",
        "model2.add(BatchNormalization())\r\n",
        "model2.add(Conv2D(128, (3, 3), padding='same'))\r\n",
        "model2.add(Activation('relu'))\r\n",
        "model2.add(Dropout(0.2))\r\n",
        "model2.add(BatchNormalization())\r\n",
        "\r\n",
        "model2.add(Flatten())\r\n",
        "model2.add(Dropout(0.2))\r\n",
        "model2.add(Dense(256, kernel_constraint=maxnorm(3)))\r\n",
        "model2.add(Activation('relu'))\r\n",
        "model2.add(Dropout(0.2))\r\n",
        "model2.add(BatchNormalization())\r\n",
        "    \r\n",
        "model2.add(Dense(128, kernel_constraint=maxnorm(3)))\r\n",
        "model2.add(Activation('relu'))\r\n",
        "model2.add(Dropout(0.2))\r\n",
        "model2.add(BatchNormalization())\r\n",
        "\r\n",
        "model2.add(Dense(class_num))\r\n",
        "model2.add(Activation('softmax'))\r\n",
        "epochs = 10\r\n",
        "optimizer = 'adam'\r\n",
        "model2.compile(loss='categorical_crossentropy', optimizer=optimizer, metrics=['accuracy'])"
      ],
      "execution_count": null,
      "outputs": []
    },
    {
      "cell_type": "code",
      "metadata": {
        "id": "TgLlAH2benqI"
      },
      "source": [
        "import matplotlib.pyplot as plt\r\n",
        "from keras.callbacks import Callback, EarlyStopping, ReduceLROnPlateau, ModelCheckpoint\r\n",
        "\r\n",
        "class MetricsCheckpoint(Callback):\r\n",
        "    \"\"\"Callback that saves metrics after each epoch\"\"\"\r\n",
        "    def __init__(self, savepath):\r\n",
        "        super(MetricsCheckpoint, self).__init__()\r\n",
        "        self.savepath = savepath\r\n",
        "        self.history = {}\r\n",
        "    def on_epoch_end(self, epoch, logs=None):\r\n",
        "        for k, v in logs.items():\r\n",
        "            self.history.setdefault(k, []).append(v)\r\n",
        "        np.save(self.savepath, self.history)\r\n",
        "        \r\n",
        "def plotKerasLearningCurve():\r\n",
        "    plt.figure(figsize=(10,5))\r\n",
        "    metrics = np.load('logs.npy')[()]\r\n",
        "    filt = ['acc'] # try to add 'loss' to see the loss learning curve\r\n",
        "    for k in filter(lambda x : np.any([kk in x for kk in filt]), metrics.keys()):\r\n",
        "        l = np.array(metrics[k])\r\n",
        "        plt.plot(l, c= 'r' if 'val' not in k else 'b', label='val' if 'val' in k else 'train')\r\n",
        "        x = np.argmin(l) if 'loss' in k else np.argmax(l)\r\n",
        "        y = l[x]\r\n",
        "        plt.scatter(x,y, lw=0, alpha=0.25, s=100, c='r' if 'val' not in k else 'b')\r\n",
        "        plt.text(x, y, '{} = {:.4f}'.format(x,y), size='15', color= 'r' if 'val' not in k else 'b')   \r\n",
        "    plt.legend(loc=4)\r\n",
        "    plt.axis([0, None, None, None]);\r\n",
        "    plt.grid()\r\n",
        "    plt.xlabel('Number of epochs')\r\n",
        "    plt.ylabel('Accuracy')"
      ],
      "execution_count": null,
      "outputs": []
    },
    {
      "cell_type": "code",
      "metadata": {
        "colab": {
          "base_uri": "https://localhost:8080/"
        },
        "id": "9zxqvrO9dBFk",
        "outputId": "847d2a32-3d48-4ffe-b279-99d4c7ed5269"
      },
      "source": [
        "numpy.random.seed(seed)\r\n",
        "history = model2.fit(X_train2, y_train2, validation_data=(X_test, y_test), epochs=epochs, batch_size=64, callbacks = [MetricsCheckpoint('logs')])"
      ],
      "execution_count": null,
      "outputs": [
        {
          "output_type": "stream",
          "text": [
            "Epoch 1/10\n",
            "454/454 [==============================] - 1182s 3s/step - loss: 1.3042 - accuracy: 0.6258 - val_loss: 7.6970 - val_accuracy: 0.0384\n",
            "Epoch 2/10\n",
            "454/454 [==============================] - 1173s 3s/step - loss: 0.0846 - accuracy: 0.9806 - val_loss: 3.4539 - val_accuracy: 0.3752\n",
            "Epoch 3/10\n",
            "454/454 [==============================] - 1176s 3s/step - loss: 0.0729 - accuracy: 0.9808 - val_loss: 6.3395 - val_accuracy: 0.3386\n",
            "Epoch 4/10\n",
            "454/454 [==============================] - 1166s 3s/step - loss: 0.0839 - accuracy: 0.9766 - val_loss: 1.4738 - val_accuracy: 0.6926\n",
            "Epoch 5/10\n",
            "454/454 [==============================] - 1157s 3s/step - loss: 0.0251 - accuracy: 0.9932 - val_loss: 1.1680 - val_accuracy: 0.7757\n",
            "Epoch 6/10\n",
            "454/454 [==============================] - 1154s 3s/step - loss: 0.0418 - accuracy: 0.9877 - val_loss: 0.9500 - val_accuracy: 0.7678\n",
            "Epoch 7/10\n",
            "454/454 [==============================] - 1155s 3s/step - loss: 0.0366 - accuracy: 0.9882 - val_loss: 0.8222 - val_accuracy: 0.7941\n",
            "Epoch 8/10\n",
            "454/454 [==============================] - 1154s 3s/step - loss: 0.0585 - accuracy: 0.9800 - val_loss: 0.0440 - val_accuracy: 0.9857\n",
            "Epoch 9/10\n",
            "454/454 [==============================] - 1160s 3s/step - loss: 0.0236 - accuracy: 0.9922 - val_loss: 0.8948 - val_accuracy: 0.7791\n",
            "Epoch 10/10\n",
            "454/454 [==============================] - 1170s 3s/step - loss: 0.0193 - accuracy: 0.9937 - val_loss: 2.4336 - val_accuracy: 0.6336\n"
          ],
          "name": "stdout"
        }
      ]
    },
    {
      "cell_type": "code",
      "metadata": {
        "id": "i0soh8a8XVYQ"
      },
      "source": [
        "def plot_learning_curve(history):\r\n",
        "    plt.figure(figsize=(8,8))\r\n",
        "    plt.subplot(1,2,1)\r\n",
        "    plt.plot(history.history['accuracy'])\r\n",
        "    plt.plot(history.history['val_accuracy'])\r\n",
        "    plt.title('Model accuracy')\r\n",
        "    plt.ylabel('accuracy')\r\n",
        "    plt.xlabel('epoch')\r\n",
        "    plt.legend(['train', 'test'], loc='upper left')\r\n",
        "    plt.savefig('./accuracy_curve.png')\r\n",
        "    plt.subplot(1,2,2)\r\n",
        "    plt.plot(history.history['loss'])\r\n",
        "    plt.plot(history.history['val_loss'])\r\n",
        "    plt.title('Model loss')\r\n",
        "    plt.ylabel('loss')\r\n",
        "    plt.xlabel('epoch')\r\n",
        "    plt.legend(['train', 'test'], loc='upper left')\r\n",
        "    plt.savefig('./loss_curve.png')"
      ],
      "execution_count": null,
      "outputs": []
    },
    {
      "cell_type": "code",
      "metadata": {
        "colab": {
          "base_uri": "https://localhost:8080/"
        },
        "id": "iOYVcVYpeyjt",
        "outputId": "1e3e0c5f-bc90-4733-bf47-53a3082e8412"
      },
      "source": [
        "print(history.history.keys())"
      ],
      "execution_count": null,
      "outputs": [
        {
          "output_type": "stream",
          "text": [
            "dict_keys(['loss', 'accuracy', 'val_loss', 'val_accuracy'])\n"
          ],
          "name": "stdout"
        }
      ]
    },
    {
      "cell_type": "code",
      "metadata": {
        "colab": {
          "base_uri": "https://localhost:8080/",
          "height": 513
        },
        "id": "mCrFOhjSYxk7",
        "outputId": "627e26e9-9f88-47f8-ab47-2713cc04633a"
      },
      "source": [
        "plot_learning_curve(history)"
      ],
      "execution_count": null,
      "outputs": [
        {
          "output_type": "display_data",
          "data": {
            "image/png": "[encoded data removed]",
            "text/plain": [
              "<Figure size 576x576 with 2 Axes>"
            ]
          },
          "metadata": {
            "tags": [],
            "needs_background": "light"
          }
        }
      ]
    },
    {
      "cell_type": "code",
      "metadata": {
        "colab": {
          "base_uri": "https://localhost:8080/"
        },
        "id": "du3b9zzKUP5X",
        "outputId": "9df0b39c-c578-4235-b544-d533d454ea21"
      },
      "source": [
        "scores = model.evaluate(X_test, y_test, verbose=0)\r\n",
        "print(\"Accuracy: %.2f%%\" % (scores[1]*100))"
      ],
      "execution_count": null,
      "outputs": [
        {
          "output_type": "stream",
          "text": [
            "Accuracy: 93.45%\n"
          ],
          "name": "stdout"
        }
      ]
    }
  ]
}